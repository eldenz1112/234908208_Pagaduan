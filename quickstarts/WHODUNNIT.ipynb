{
  "cells": [
    {
      "cell_type": "code",
      "source": [
        "!pip install pandas openpyxl --quiet\n",
        "import pandas as pd\n",
        "df = pd.read_excel('Gallery.xlsx')\n",
        "print(\"Raw Data:\")\n",
        "df.head()\n",
        "df = df.drop(columns=[\"Irrelevant Column\"], errors=\"ignore\")\n",
        "df = df.drop_duplicates()\n",
        "df[\"Entry Time\"] = df[\"Entry Time\"].str.upper()\n",
        "df[\"Exit Time\"] = df[\"Exit Time\"].str.upper()\n",
        "df[\"Time Near Painting (min)\"] = df[\"Time Near Painting (min)\"].fillna(0)\n",
        "df[\"Items Carried\"] = df[\"Items Carried\"].fillna(\"Unknown\")\n",
        "df[\"Relation to Staff\"] = df[\"Relation to Staff\"].fillna(\"None\")\n",
        "suspect_data = df[\n",
        "    (df[\"Location Visited\"].str.contains(\"Gallery B\")) &\n",
        "    (df[\"Time Near Painting (min)\"] > 0)  # Spent time near the painting\n",
        "]\n",
        "suspect_data = suspect_data.sort_values(by=\"Time Near Painting (min)\", ascending=False)\n",
        "print(\"\\nCleaned Dataset:\")\n",
        "print(df.head())\n",
        "\n",
        "print(\"\\nPotential Suspects:\")\n",
        "print(suspect_data)\n"
      ],
      "metadata": {
        "id": "Of2ezCDdM--N",
        "outputId": "90d37087-671f-4ef0-efef-50506dd073a2",
        "colab": {
          "base_uri": "https://localhost:8080/"
        }
      },
      "execution_count": 19,
      "outputs": [
        {
          "output_type": "stream",
          "name": "stdout",
          "text": [
            "Raw Data:\n",
            "\n",
            "Cleaned Dataset:\n",
            "  Visitor ID        Name Entry Time Exit Time Location Visited Items Carried  \\\n",
            "0       V020  Visitor_20   10:24 AM  10:56 AM        Gallery B       Unknown   \n",
            "1       V042  Visitor_42   10:05 AM  12:20 AM        Gallery B       Unknown   \n",
            "2       V048  Visitor_48   11:37 AM  10:15 AM        Gallery A           Bag   \n",
            "3       V013  Visitor_13    9:38 AM  10:34 AM     Gallery B, C      Backpack   \n",
            "4       V044  Visitor_44   11:52 AM  11:10 AM        Gallery C           Bag   \n",
            "\n",
            "  Relation to Staff Suspicious Behavior  Time Near Painting (min)  \n",
            "0            Friend                 Yes                       4.0  \n",
            "1            Friend                 Yes                       0.0  \n",
            "2    Staff Relative                  No                      20.0  \n",
            "3    Staff Relative                  No                       7.0  \n",
            "4              None                 Yes                       2.0  \n",
            "\n",
            "Potential Suspects:\n",
            "   Visitor ID        Name Entry Time Exit Time Location Visited Items Carried  \\\n",
            "32       V040  Visitor_40   10:18 AM  11:05 AM        Gallery B      Backpack   \n",
            "51       V040  Visitor_40   10:18 AM  11:05 AM        Gallery B      Backpack   \n",
            "37       V003   Visitor_3   10:09 AM  10:52 AM        Gallery B       Unknown   \n",
            "12       V027  Visitor_27    9:27 AM  10:34 AM        Gallery B         Purse   \n",
            "31       V032  Visitor_32    9:54 AM  10:15 AM     Gallery B, C       Unknown   \n",
            "39       V036  Visitor_36   11:46 AM  12:37 AM        Gallery B         Purse   \n",
            "22       V010  Visitor_10   11:15 AM  10:59 AM     Gallery B, C      Backpack   \n",
            "49       V015  Visitor_15   10:52 AM  11:45 AM     Gallery B, C           Bag   \n",
            "16       V038  Visitor_38   10:29 AM  12:26 AM     Gallery B, C         Purse   \n",
            "3        V013  Visitor_13    9:38 AM  10:34 AM     Gallery B, C      Backpack   \n",
            "52       V039  Visitor_39   11:06 AM  11:16 AM     Gallery B, C         Purse   \n",
            "18       V045  Visitor_45    9:16 AM  10:45 AM        Gallery B      Backpack   \n",
            "0        V020  Visitor_20   10:24 AM  10:56 AM        Gallery B       Unknown   \n",
            "40       V024  Visitor_24   10:10 AM  12:10 AM     Gallery B, C       Unknown   \n",
            "\n",
            "   Relation to Staff Suspicious Behavior  Time Near Painting (min)  \n",
            "32              None                  No                      24.0  \n",
            "51              None                  No                      24.0  \n",
            "37              None                 Yes                      20.0  \n",
            "12    Staff Relative                 Yes                      16.0  \n",
            "31    Staff Relative                 Yes                      16.0  \n",
            "39    Staff Relative                 Yes                      15.0  \n",
            "22            Friend                  No                      13.0  \n",
            "49              None                 Yes                      12.0  \n",
            "16            Friend                  No                      10.0  \n",
            "3     Staff Relative                  No                       7.0  \n",
            "52    Staff Relative                  No                       7.0  \n",
            "18              None                  No                       5.0  \n",
            "0             Friend                 Yes                       4.0  \n",
            "40            Friend                 Yes                       2.0  \n"
          ]
        }
      ]
    },
    {
      "cell_type": "markdown",
      "source": [
        "As shown in the table to most potential to be a suspect is visitor 40 because he was present before the paintings dissapearance and left prior to the stealing\n",
        "he also carried an item(backpack) which is capable for carrying a stolen item"
      ],
      "metadata": {
        "id": "Aw9iIJ66Nn3t"
      }
    }
  ],
  "metadata": {
    "colab": {
      "name": "Prompting.ipynb",
      "provenance": []
    },
    "google": {
      "image_path": "/static/site-assets/images/docs/logo-python.svg",
      "keywords": [
        "examples",
        "gemini",
        "beginner",
        "googleai",
        "quickstart",
        "python",
        "text",
        "chat",
        "vision",
        "embed"
      ]
    },
    "kernelspec": {
      "display_name": "Python 3",
      "name": "python3"
    }
  },
  "nbformat": 4,
  "nbformat_minor": 0
}